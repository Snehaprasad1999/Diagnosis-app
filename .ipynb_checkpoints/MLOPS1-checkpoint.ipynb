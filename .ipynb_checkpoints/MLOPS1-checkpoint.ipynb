{
 "cells": [
  {
   "cell_type": "markdown",
   "id": "f676fdb1",
   "metadata": {},
   "source": [
    "# End to End Mchione Learning with Deployment"
   ]
  },
  {
   "cell_type": "markdown",
   "id": "ff94d503",
   "metadata": {},
   "source": [
    "**Problem Statement** Create a Medical Diagnostic App for predicting diabetes in woman\n",
    "\n",
    "**Dataset**The Pima Indian Dataset form Kaggle\n",
    "\n",
    "**Steps to follow**\n",
    "1. Data Exploration\n",
    "2. Data Cleaning\n",
    "3. Exploratory data analysis\n",
    "4. Data Pre Processing \n",
    "5. Model fitting and evaluation\n",
    "6. Model Optimization\n",
    "7. Model Interpretation\n",
    "8. Model Deployment"
   ]
  },
  {
   "cell_type": "code",
   "execution_count": 1,
   "id": "d524467e",
   "metadata": {},
   "outputs": [
    {
     "name": "stdout",
     "output_type": "stream",
     "text": [
      "Requirement already satisfied: imbalanced-learn in d:\\anaconda\\envs\\mlop\\lib\\site-packages (0.11.0)\n",
      "Requirement already satisfied: numpy>=1.17.3 in d:\\anaconda\\envs\\mlop\\lib\\site-packages (from imbalanced-learn) (1.24.3)\n",
      "Requirement already satisfied: scipy>=1.5.0 in d:\\anaconda\\envs\\mlop\\lib\\site-packages (from imbalanced-learn) (1.11.1)\n",
      "Requirement already satisfied: scikit-learn>=1.0.2 in d:\\anaconda\\envs\\mlop\\lib\\site-packages (from imbalanced-learn) (1.3.0)\n",
      "Requirement already satisfied: joblib>=1.1.1 in d:\\anaconda\\envs\\mlop\\lib\\site-packages (from imbalanced-learn) (1.2.0)\n",
      "Requirement already satisfied: threadpoolctl>=2.0.0 in d:\\anaconda\\envs\\mlop\\lib\\site-packages (from imbalanced-learn) (2.2.0)\n"
     ]
    }
   ],
   "source": [
    "!pip install -U imbalanced-learn"
   ]
  },
  {
   "cell_type": "code",
   "execution_count": 2,
   "id": "b488718b",
   "metadata": {},
   "outputs": [
    {
     "name": "stdout",
     "output_type": "stream",
     "text": [
      "Requirement already satisfied: shap in d:\\anaconda\\envs\\mlop\\lib\\site-packages (0.43.0)\n",
      "Requirement already satisfied: numpy in d:\\anaconda\\envs\\mlop\\lib\\site-packages (from shap) (1.24.3)\n",
      "Requirement already satisfied: scipy in d:\\anaconda\\envs\\mlop\\lib\\site-packages (from shap) (1.11.1)\n",
      "Requirement already satisfied: scikit-learn in d:\\anaconda\\envs\\mlop\\lib\\site-packages (from shap) (1.3.0)\n",
      "Requirement already satisfied: pandas in d:\\anaconda\\envs\\mlop\\lib\\site-packages (from shap) (2.0.3)\n",
      "Requirement already satisfied: tqdm>=4.27.0 in d:\\anaconda\\envs\\mlop\\lib\\site-packages (from shap) (4.65.0)\n",
      "Requirement already satisfied: packaging>20.9 in d:\\anaconda\\envs\\mlop\\lib\\site-packages (from shap) (23.1)\n",
      "Requirement already satisfied: slicer==0.0.7 in d:\\anaconda\\envs\\mlop\\lib\\site-packages (from shap) (0.0.7)\n",
      "Requirement already satisfied: numba in d:\\anaconda\\envs\\mlop\\lib\\site-packages (from shap) (0.57.1)\n",
      "Requirement already satisfied: cloudpickle in d:\\anaconda\\envs\\mlop\\lib\\site-packages (from shap) (2.2.1)\n",
      "Requirement already satisfied: colorama in d:\\anaconda\\envs\\mlop\\lib\\site-packages (from tqdm>=4.27.0->shap) (0.4.6)\n",
      "Requirement already satisfied: llvmlite<0.41,>=0.40.0dev0 in d:\\anaconda\\envs\\mlop\\lib\\site-packages (from numba->shap) (0.40.0)\n",
      "Requirement already satisfied: python-dateutil>=2.8.2 in d:\\anaconda\\envs\\mlop\\lib\\site-packages (from pandas->shap) (2.8.2)\n",
      "Requirement already satisfied: pytz>=2020.1 in d:\\anaconda\\envs\\mlop\\lib\\site-packages (from pandas->shap) (2023.3.post1)\n",
      "Requirement already satisfied: tzdata>=2022.1 in d:\\anaconda\\envs\\mlop\\lib\\site-packages (from pandas->shap) (2023.3)\n",
      "Requirement already satisfied: joblib>=1.1.1 in d:\\anaconda\\envs\\mlop\\lib\\site-packages (from scikit-learn->shap) (1.2.0)\n",
      "Requirement already satisfied: threadpoolctl>=2.0.0 in d:\\anaconda\\envs\\mlop\\lib\\site-packages (from scikit-learn->shap) (2.2.0)\n",
      "Requirement already satisfied: six>=1.5 in d:\\anaconda\\envs\\mlop\\lib\\site-packages (from python-dateutil>=2.8.2->pandas->shap) (1.16.0)\n"
     ]
    }
   ],
   "source": [
    "!pip install shap"
   ]
  },
  {
   "cell_type": "code",
   "execution_count": 3,
   "id": "adb31e20",
   "metadata": {},
   "outputs": [
    {
     "name": "stdout",
     "output_type": "stream",
     "text": [
      "Requirement already satisfied: streamlit in d:\\anaconda\\envs\\mlop\\lib\\site-packages (1.28.0)\n",
      "Requirement already satisfied: altair<6,>=4.0 in d:\\anaconda\\envs\\mlop\\lib\\site-packages (from streamlit) (5.1.2)\n",
      "Requirement already satisfied: blinker<2,>=1.0.0 in d:\\anaconda\\envs\\mlop\\lib\\site-packages (from streamlit) (1.6.3)\n",
      "Requirement already satisfied: cachetools<6,>=4.0 in d:\\anaconda\\envs\\mlop\\lib\\site-packages (from streamlit) (5.3.2)\n",
      "Requirement already satisfied: click<9,>=7.0 in d:\\anaconda\\envs\\mlop\\lib\\site-packages (from streamlit) (8.0.4)\n",
      "Requirement already satisfied: importlib-metadata<7,>=1.4 in d:\\anaconda\\envs\\mlop\\lib\\site-packages (from streamlit) (6.0.0)\n",
      "Requirement already satisfied: numpy<2,>=1.19.3 in d:\\anaconda\\envs\\mlop\\lib\\site-packages (from streamlit) (1.24.3)\n",
      "Requirement already satisfied: packaging<24,>=16.8 in d:\\anaconda\\envs\\mlop\\lib\\site-packages (from streamlit) (23.1)\n",
      "Requirement already satisfied: pandas<3,>=1.3.0 in d:\\anaconda\\envs\\mlop\\lib\\site-packages (from streamlit) (2.0.3)\n",
      "Requirement already satisfied: pillow<11,>=7.1.0 in d:\\anaconda\\envs\\mlop\\lib\\site-packages (from streamlit) (9.4.0)\n",
      "Requirement already satisfied: protobuf<5,>=3.20 in d:\\anaconda\\envs\\mlop\\lib\\site-packages (from streamlit) (4.24.4)\n",
      "Requirement already satisfied: pyarrow>=6.0 in d:\\anaconda\\envs\\mlop\\lib\\site-packages (from streamlit) (11.0.0)\n",
      "Requirement already satisfied: python-dateutil<3,>=2.7.3 in d:\\anaconda\\envs\\mlop\\lib\\site-packages (from streamlit) (2.8.2)\n",
      "Requirement already satisfied: requests<3,>=2.27 in d:\\anaconda\\envs\\mlop\\lib\\site-packages (from streamlit) (2.31.0)\n",
      "Requirement already satisfied: rich<14,>=10.14.0 in d:\\anaconda\\envs\\mlop\\lib\\site-packages (from streamlit) (13.6.0)\n",
      "Requirement already satisfied: tenacity<9,>=8.1.0 in d:\\anaconda\\envs\\mlop\\lib\\site-packages (from streamlit) (8.2.2)\n",
      "Requirement already satisfied: toml<2,>=0.10.1 in d:\\anaconda\\envs\\mlop\\lib\\site-packages (from streamlit) (0.10.2)\n",
      "Requirement already satisfied: typing-extensions<5,>=4.3.0 in d:\\anaconda\\envs\\mlop\\lib\\site-packages (from streamlit) (4.7.1)\n",
      "Requirement already satisfied: tzlocal<6,>=1.1 in d:\\anaconda\\envs\\mlop\\lib\\site-packages (from streamlit) (5.2)\n",
      "Requirement already satisfied: validators<1,>=0.2 in d:\\anaconda\\envs\\mlop\\lib\\site-packages (from streamlit) (0.22.0)\n",
      "Requirement already satisfied: gitpython!=3.1.19,<4,>=3.0.7 in d:\\anaconda\\envs\\mlop\\lib\\site-packages (from streamlit) (3.1.40)\n",
      "Requirement already satisfied: pydeck<1,>=0.8.0b4 in d:\\anaconda\\envs\\mlop\\lib\\site-packages (from streamlit) (0.8.1b0)\n",
      "Requirement already satisfied: tornado<7,>=6.0.3 in d:\\anaconda\\envs\\mlop\\lib\\site-packages (from streamlit) (6.3.2)\n",
      "Requirement already satisfied: watchdog>=2.1.5 in d:\\anaconda\\envs\\mlop\\lib\\site-packages (from streamlit) (2.1.6)\n",
      "Requirement already satisfied: jinja2 in d:\\anaconda\\envs\\mlop\\lib\\site-packages (from altair<6,>=4.0->streamlit) (3.1.2)\n",
      "Requirement already satisfied: jsonschema>=3.0 in d:\\anaconda\\envs\\mlop\\lib\\site-packages (from altair<6,>=4.0->streamlit) (4.17.3)\n",
      "Requirement already satisfied: toolz in d:\\anaconda\\envs\\mlop\\lib\\site-packages (from altair<6,>=4.0->streamlit) (0.12.0)\n",
      "Requirement already satisfied: colorama in d:\\anaconda\\envs\\mlop\\lib\\site-packages (from click<9,>=7.0->streamlit) (0.4.6)\n",
      "Requirement already satisfied: gitdb<5,>=4.0.1 in d:\\anaconda\\envs\\mlop\\lib\\site-packages (from gitpython!=3.1.19,<4,>=3.0.7->streamlit) (4.0.11)\n",
      "Requirement already satisfied: zipp>=0.5 in d:\\anaconda\\envs\\mlop\\lib\\site-packages (from importlib-metadata<7,>=1.4->streamlit) (3.11.0)\n",
      "Requirement already satisfied: pytz>=2020.1 in d:\\anaconda\\envs\\mlop\\lib\\site-packages (from pandas<3,>=1.3.0->streamlit) (2023.3.post1)\n",
      "Requirement already satisfied: tzdata>=2022.1 in d:\\anaconda\\envs\\mlop\\lib\\site-packages (from pandas<3,>=1.3.0->streamlit) (2023.3)\n",
      "Requirement already satisfied: six>=1.5 in d:\\anaconda\\envs\\mlop\\lib\\site-packages (from python-dateutil<3,>=2.7.3->streamlit) (1.16.0)\n",
      "Requirement already satisfied: charset-normalizer<4,>=2 in d:\\anaconda\\envs\\mlop\\lib\\site-packages (from requests<3,>=2.27->streamlit) (2.0.4)\n",
      "Requirement already satisfied: idna<4,>=2.5 in d:\\anaconda\\envs\\mlop\\lib\\site-packages (from requests<3,>=2.27->streamlit) (3.4)\n",
      "Requirement already satisfied: urllib3<3,>=1.21.1 in d:\\anaconda\\envs\\mlop\\lib\\site-packages (from requests<3,>=2.27->streamlit) (1.26.16)\n",
      "Requirement already satisfied: certifi>=2017.4.17 in d:\\anaconda\\envs\\mlop\\lib\\site-packages (from requests<3,>=2.27->streamlit) (2023.7.22)\n",
      "Requirement already satisfied: markdown-it-py>=2.2.0 in d:\\anaconda\\envs\\mlop\\lib\\site-packages (from rich<14,>=10.14.0->streamlit) (2.2.0)\n",
      "Requirement already satisfied: pygments<3.0.0,>=2.13.0 in d:\\anaconda\\envs\\mlop\\lib\\site-packages (from rich<14,>=10.14.0->streamlit) (2.15.1)\n",
      "Requirement already satisfied: smmap<6,>=3.0.1 in d:\\anaconda\\envs\\mlop\\lib\\site-packages (from gitdb<5,>=4.0.1->gitpython!=3.1.19,<4,>=3.0.7->streamlit) (5.0.1)\n",
      "Requirement already satisfied: MarkupSafe>=2.0 in d:\\anaconda\\envs\\mlop\\lib\\site-packages (from jinja2->altair<6,>=4.0->streamlit) (2.1.1)\n",
      "Requirement already satisfied: attrs>=17.4.0 in d:\\anaconda\\envs\\mlop\\lib\\site-packages (from jsonschema>=3.0->altair<6,>=4.0->streamlit) (22.1.0)\n",
      "Requirement already satisfied: pyrsistent!=0.17.0,!=0.17.1,!=0.17.2,>=0.14.0 in d:\\anaconda\\envs\\mlop\\lib\\site-packages (from jsonschema>=3.0->altair<6,>=4.0->streamlit) (0.18.0)\n",
      "Requirement already satisfied: mdurl~=0.1 in d:\\anaconda\\envs\\mlop\\lib\\site-packages (from markdown-it-py>=2.2.0->rich<14,>=10.14.0->streamlit) (0.1.0)\n"
     ]
    }
   ],
   "source": [
    "!pip install streamlit"
   ]
  },
  {
   "cell_type": "code",
   "execution_count": 4,
   "id": "320356f5",
   "metadata": {},
   "outputs": [
    {
     "name": "stdout",
     "output_type": "stream",
     "text": [
      "Requirement already satisfied: xgboost in d:\\anaconda\\envs\\mlop\\lib\\site-packages (2.0.1)\n",
      "Requirement already satisfied: numpy in d:\\anaconda\\envs\\mlop\\lib\\site-packages (from xgboost) (1.24.3)\n",
      "Requirement already satisfied: scipy in d:\\anaconda\\envs\\mlop\\lib\\site-packages (from xgboost) (1.11.1)\n"
     ]
    }
   ],
   "source": [
    "!pip install xgboost"
   ]
  },
  {
   "cell_type": "markdown",
   "id": "3c968371",
   "metadata": {},
   "source": [
    "### Data Exploration"
   ]
  },
  {
   "cell_type": "code",
   "execution_count": 5,
   "id": "b4177f38",
   "metadata": {},
   "outputs": [
    {
     "name": "stdout",
     "output_type": "stream",
     "text": [
      "All libraries are imported\n"
     ]
    }
   ],
   "source": [
    "# load all the libraries\n",
    "import numpy as np\n",
    "import pandas as pd\n",
    "import seaborn as sns\n",
    "import matplotlib.pyplot as plt\n",
    "import warnings \n",
    "warnings.filterwarnings(\"ignore\")\n",
    "\n",
    "from sklearn.preprocessing import StandardScaler\n",
    "from sklearn.model_selection import train_test_split, RandomizedSearchCV\n",
    "from imblearn.over_sampling import SMOTE\n",
    "\n",
    "from sklearn.linear_model import LogisticRegression\n",
    "from sklearn.neighbors import KNeighborsClassifier\n",
    "from sklearn.naive_bayes import GaussianNB\n",
    "from sklearn.tree import DecisionTreeClassifier\n",
    "from sklearn.ensemble import RandomForestClassifier, AdaBoostClassifier, GradientBoostingClassifier\n",
    "from sklearn.svm import SVC\n",
    "from xgboost import XGBClassifier\n",
    "\n",
    "from sklearn.metrics import accuracy_score, precision_score,  recall_score\n",
    "       \n",
    "from sklearn.metrics import roc_auc_score, f1_score, confusion_matrix, classification_report\n",
    "\n",
    "import shap\n",
    "import pickle\n",
    "import streamlit as st\n",
    "\n",
    "print(\"All libraries are imported\")\n",
    "\n"
   ]
  },
  {
   "cell_type": "code",
   "execution_count": 6,
   "id": "c3f7416c",
   "metadata": {},
   "outputs": [
    {
     "data": {
      "text/html": [
       "<div>\n",
       "<style scoped>\n",
       "    .dataframe tbody tr th:only-of-type {\n",
       "        vertical-align: middle;\n",
       "    }\n",
       "\n",
       "    .dataframe tbody tr th {\n",
       "        vertical-align: top;\n",
       "    }\n",
       "\n",
       "    .dataframe thead th {\n",
       "        text-align: right;\n",
       "    }\n",
       "</style>\n",
       "<table border=\"1\" class=\"dataframe\">\n",
       "  <thead>\n",
       "    <tr style=\"text-align: right;\">\n",
       "      <th></th>\n",
       "      <th>Pregnancies</th>\n",
       "      <th>Glucose</th>\n",
       "      <th>BloodPressure</th>\n",
       "      <th>SkinThickness</th>\n",
       "      <th>Insulin</th>\n",
       "      <th>BMI</th>\n",
       "      <th>DiabetesPedigreeFunction</th>\n",
       "      <th>Age</th>\n",
       "      <th>Outcome</th>\n",
       "    </tr>\n",
       "  </thead>\n",
       "  <tbody>\n",
       "    <tr>\n",
       "      <th>0</th>\n",
       "      <td>6</td>\n",
       "      <td>148</td>\n",
       "      <td>72</td>\n",
       "      <td>35</td>\n",
       "      <td>0</td>\n",
       "      <td>33.6</td>\n",
       "      <td>0.627</td>\n",
       "      <td>50</td>\n",
       "      <td>Yes</td>\n",
       "    </tr>\n",
       "    <tr>\n",
       "      <th>1</th>\n",
       "      <td>1</td>\n",
       "      <td>85</td>\n",
       "      <td>66</td>\n",
       "      <td>29</td>\n",
       "      <td>0</td>\n",
       "      <td>26.6</td>\n",
       "      <td>0.351</td>\n",
       "      <td>31</td>\n",
       "      <td>No</td>\n",
       "    </tr>\n",
       "    <tr>\n",
       "      <th>2</th>\n",
       "      <td>8</td>\n",
       "      <td>183</td>\n",
       "      <td>64</td>\n",
       "      <td>0</td>\n",
       "      <td>0</td>\n",
       "      <td>23.3</td>\n",
       "      <td>0.672</td>\n",
       "      <td>32</td>\n",
       "      <td>Yes</td>\n",
       "    </tr>\n",
       "    <tr>\n",
       "      <th>3</th>\n",
       "      <td>1</td>\n",
       "      <td>89</td>\n",
       "      <td>66</td>\n",
       "      <td>23</td>\n",
       "      <td>94</td>\n",
       "      <td>28.1</td>\n",
       "      <td>0.167</td>\n",
       "      <td>21</td>\n",
       "      <td>No</td>\n",
       "    </tr>\n",
       "    <tr>\n",
       "      <th>4</th>\n",
       "      <td>0</td>\n",
       "      <td>137</td>\n",
       "      <td>40</td>\n",
       "      <td>35</td>\n",
       "      <td>168</td>\n",
       "      <td>43.1</td>\n",
       "      <td>2.288</td>\n",
       "      <td>33</td>\n",
       "      <td>Tested_Positive</td>\n",
       "    </tr>\n",
       "  </tbody>\n",
       "</table>\n",
       "</div>"
      ],
      "text/plain": [
       "   Pregnancies  Glucose  BloodPressure  SkinThickness  Insulin   BMI  \\\n",
       "0            6      148             72             35        0  33.6   \n",
       "1            1       85             66             29        0  26.6   \n",
       "2            8      183             64              0        0  23.3   \n",
       "3            1       89             66             23       94  28.1   \n",
       "4            0      137             40             35      168  43.1   \n",
       "\n",
       "   DiabetesPedigreeFunction  Age          Outcome  \n",
       "0                     0.627   50              Yes  \n",
       "1                     0.351   31               No  \n",
       "2                     0.672   32              Yes  \n",
       "3                     0.167   21               No  \n",
       "4                     2.288   33  Tested_Positive  "
      ]
     },
     "execution_count": 6,
     "metadata": {},
     "output_type": "execute_result"
    }
   ],
   "source": [
    "# get the data \n",
    "data=pd.read_csv('diabetes.csv')\n",
    "data.head()"
   ]
  },
  {
   "cell_type": "code",
   "execution_count": 7,
   "id": "8fd5acc5",
   "metadata": {},
   "outputs": [
    {
     "data": {
      "text/plain": [
       "(768, 9)"
      ]
     },
     "execution_count": 7,
     "metadata": {},
     "output_type": "execute_result"
    }
   ],
   "source": [
    "data.shape"
   ]
  },
  {
   "cell_type": "code",
   "execution_count": 8,
   "id": "03632f6a",
   "metadata": {},
   "outputs": [
    {
     "name": "stdout",
     "output_type": "stream",
     "text": [
      "<class 'pandas.core.frame.DataFrame'>\n",
      "RangeIndex: 768 entries, 0 to 767\n",
      "Data columns (total 9 columns):\n",
      " #   Column                    Non-Null Count  Dtype  \n",
      "---  ------                    --------------  -----  \n",
      " 0   Pregnancies               768 non-null    int64  \n",
      " 1   Glucose                   768 non-null    int64  \n",
      " 2   BloodPressure             768 non-null    int64  \n",
      " 3   SkinThickness             768 non-null    int64  \n",
      " 4   Insulin                   768 non-null    int64  \n",
      " 5   BMI                       768 non-null    float64\n",
      " 6   DiabetesPedigreeFunction  768 non-null    float64\n",
      " 7   Age                       768 non-null    int64  \n",
      " 8   Outcome                   768 non-null    object \n",
      "dtypes: float64(2), int64(6), object(1)\n",
      "memory usage: 54.1+ KB\n"
     ]
    }
   ],
   "source": [
    "data.info()"
   ]
  },
  {
   "cell_type": "markdown",
   "id": "78c9cda9",
   "metadata": {},
   "source": [
    "**Columns of the dataset are **\n",
    "1. Pregnancies- The number of times a woman was/is pregnant \n",
    "2. Glucose- the blood serum glucose level of the patient in mg/dl\n",
    "3. BloodPressure- The diastolic blood pressurre in mm of Hg\n",
    "4. Skin thickness - Triceps skin fold thickness in mm\n",
    "5. Insulin - The blood serum insulin level in muU/ml\n",
    "6. BMI - Body Mass Index is a measure of obesity given by Wt Kg/(ht in m)^2\n",
    "7. DiabetesPedigreeFunction- A genetic indicator of the propensiyty for diabetes\n",
    "8. Age - age of patient in years \n",
    "9. Outcome- Whether the patient has diabetes or not (yes=1, no=0) which is the target column "
   ]
  },
  {
   "cell_type": "markdown",
   "id": "02dc8287",
   "metadata": {},
   "source": [
    "### Data Cleaning\n",
    "- check for null values\n",
    "- check for duplicate rows\n",
    "- check for corrupt characters\n",
    "- check for nonsensical numerical values \n",
    "- check for inconsistent labels in categorical columns"
   ]
  },
  {
   "cell_type": "code",
   "execution_count": 9,
   "id": "3b83ac12",
   "metadata": {},
   "outputs": [
    {
     "data": {
      "text/plain": [
       "Pregnancies                 0\n",
       "Glucose                     0\n",
       "BloodPressure               0\n",
       "SkinThickness               0\n",
       "Insulin                     0\n",
       "BMI                         0\n",
       "DiabetesPedigreeFunction    0\n",
       "Age                         0\n",
       "Outcome                     0\n",
       "dtype: int64"
      ]
     },
     "execution_count": 9,
     "metadata": {},
     "output_type": "execute_result"
    }
   ],
   "source": [
    "data.isnull().sum()"
   ]
  },
  {
   "cell_type": "code",
   "execution_count": 10,
   "id": "1a0924f3",
   "metadata": {},
   "outputs": [
    {
     "data": {
      "text/plain": [
       "0"
      ]
     },
     "execution_count": 10,
     "metadata": {},
     "output_type": "execute_result"
    }
   ],
   "source": [
    "data.duplicated().sum()"
   ]
  },
  {
   "cell_type": "code",
   "execution_count": 13,
   "id": "0daa874d",
   "metadata": {},
   "outputs": [
    {
     "ename": "TypeError",
     "evalue": "NDFrame._add_numeric_operations.<locals>.any() takes 1 positional argument but 2 were given",
     "output_type": "error",
     "traceback": [
      "\u001b[1;31m---------------------------------------------------------------------------\u001b[0m",
      "\u001b[1;31mTypeError\u001b[0m                                 Traceback (most recent call last)",
      "Cell \u001b[1;32mIn[13], line 1\u001b[0m\n\u001b[1;32m----> 1\u001b[0m data[\u001b[38;5;241m~\u001b[39m\u001b[43mdata\u001b[49m\u001b[38;5;241;43m.\u001b[39;49m\u001b[43mapplymap\u001b[49m\u001b[43m(\u001b[49m\u001b[43mnp\u001b[49m\u001b[38;5;241;43m.\u001b[39;49m\u001b[43misreal\u001b[49m\u001b[43m)\u001b[49m\u001b[38;5;241;43m.\u001b[39;49m\u001b[43many\u001b[49m\u001b[43m(\u001b[49m\u001b[38;5;241;43m1\u001b[39;49m\u001b[43m)\u001b[49m]\n",
      "\u001b[1;31mTypeError\u001b[0m: NDFrame._add_numeric_operations.<locals>.any() takes 1 positional argument but 2 were given"
     ]
    }
   ],
   "source": [
    "data[~data.applymap(np.isreal).any(1)]"
   ]
  },
  {
   "cell_type": "markdown",
   "id": "1cde6d8b",
   "metadata": {},
   "source": [
    "**The dataset has 768 rows and 9 columns with no nulls, no duplicates or corrupt characters**"
   ]
  },
  {
   "cell_type": "code",
   "execution_count": null,
   "id": "e257b9bd",
   "metadata": {},
   "outputs": [],
   "source": [
    "data.describe().T"
   ]
  },
  {
   "cell_type": "code",
   "execution_count": null,
   "id": "5d691725",
   "metadata": {},
   "outputs": [],
   "source": [
    "data.Outcome.value_counts()"
   ]
  },
  {
   "cell_type": "markdown",
   "id": "b3c43745",
   "metadata": {},
   "source": [
    "**We need to impute the 0 values in columns 1 to 6 with column median and collapse the different labels in Outcome to 0 and 1**"
   ]
  },
  {
   "cell_type": "code",
   "execution_count": null,
   "id": "6267e524",
   "metadata": {},
   "outputs": [],
   "source": [
    "df=data.copy()"
   ]
  },
  {
   "cell_type": "code",
   "execution_count": null,
   "id": "6c0be9fc",
   "metadata": {},
   "outputs": [],
   "source": [
    "zerofill=lambda  x: x.replace(0, x.median())\n",
    "cols=df.columns[1:6]\n",
    "df[cols]=df[cols].apply(zerofill, 0)"
   ]
  },
  {
   "cell_type": "code",
   "execution_count": null,
   "id": "f34e1ff8",
   "metadata": {},
   "outputs": [],
   "source": [
    "d={'Yes':1,\n",
    "   \"Tested_Positive\":1, \n",
    "   'No':0, \n",
    "   'Tested_Negative':0}\n",
    "df['Outcome']=df['Outcome'].map(d)"
   ]
  },
  {
   "cell_type": "code",
   "execution_count": null,
   "id": "85f42615",
   "metadata": {},
   "outputs": [],
   "source": [
    "df.head(2)"
   ]
  },
  {
   "cell_type": "code",
   "execution_count": null,
   "id": "f9fdc084",
   "metadata": {},
   "outputs": [],
   "source": [
    "df[df.columns[:]].agg(['min'])"
   ]
  },
  {
   "cell_type": "code",
   "execution_count": null,
   "id": "74cc9c3c",
   "metadata": {},
   "outputs": [],
   "source": [
    "df.Outcome.value_counts()"
   ]
  },
  {
   "cell_type": "markdown",
   "id": "c8c95771",
   "metadata": {},
   "source": [
    "### Step 3: EDA \n",
    "- univariate analysis\n",
    "- bivariate analysis\n",
    "- Scatter plots \n",
    "- Correelation matrix\n",
    "- Heatmaps"
   ]
  },
  {
   "cell_type": "code",
   "execution_count": null,
   "id": "7d1ae9a1",
   "metadata": {},
   "outputs": [],
   "source": [
    "# univariate numerical\n",
    "df.hist()\n",
    "plt.tight_layout()\n",
    "plt.show()"
   ]
  },
  {
   "cell_type": "markdown",
   "id": "a0ce99ee",
   "metadata": {},
   "source": [
    "**We see that Preganncies, SkinThickness, DiabetesPedigreeFunction, Age are Right Skewed. These have transformed after coinsulting with domain experts** "
   ]
  },
  {
   "cell_type": "code",
   "execution_count": null,
   "id": "cc174132",
   "metadata": {},
   "outputs": [],
   "source": [
    "for col in df.select_dtypes(exclude='O').columns:\n",
    "    print('Boxplot for the column ', col)\n",
    "    sns.boxplot(data=df, x=col, color='pink')\n",
    "    plt.show()"
   ]
  },
  {
   "cell_type": "markdown",
   "id": "9311a89e",
   "metadata": {},
   "source": [
    "**Pregnancies, BloodPressure, SkinThickness, Insulin, BMI, DiabetesPedicgreeFunction have lots if outliers which we have to take care wither by cropping or capping after consulting domain experts**"
   ]
  },
  {
   "cell_type": "code",
   "execution_count": null,
   "id": "b6cd75cb",
   "metadata": {
    "scrolled": true
   },
   "outputs": [],
   "source": [
    "ax=sns.countplot(df,x='Outcome', color='green')\n",
    "for p in ax.patches:\n",
    "    x=p.get_bbox().get_points()[:,0]\n",
    "    y=p.get_bbox().get_points()[1,1]\n",
    "    ax.annotate(\"{:.3g}%\".format(100.*y/len(df)), (x.mean(), y), \n",
    "                 ha='center', va='bottom')\n",
    "plt.show()"
   ]
  },
  {
   "cell_type": "code",
   "execution_count": null,
   "id": "f30b1443",
   "metadata": {},
   "outputs": [],
   "source": [
    "plt.style.use('fivethirtyeight')"
   ]
  },
  {
   "cell_type": "code",
   "execution_count": null,
   "id": "8db1b08e",
   "metadata": {},
   "outputs": [],
   "source": [
    "# Bivariates\n",
    "for col in df.select_dtypes(exclude='O').columns:\n",
    "    print(\"Bivariate Bar Graph for Outcome vs \", col)\n",
    "    df.groupby('Outcome')[col].mean().plot(kind='bar', color='orange')\n",
    "    plt.ylabel(col)\n",
    "    plt.show()"
   ]
  },
  {
   "cell_type": "markdown",
   "id": "23cbbf1c",
   "metadata": {},
   "source": [
    "**Women who have higher average pregnancies, glucose level, age, BMI, Diabetes Pedigree Function are more likely to be diabetic**"
   ]
  },
  {
   "cell_type": "code",
   "execution_count": null,
   "id": "a96c4df2",
   "metadata": {},
   "outputs": [],
   "source": [
    "sns.pairplot(df, hue='Outcome')\n",
    "plt.show()"
   ]
  },
  {
   "cell_type": "markdown",
   "id": "886884ae",
   "metadata": {},
   "source": [
    "**we see strong correlation between BMI and SkinThkickness, Glucoise and Insulin , which may have to treat by dropping one in each pair after consulting the domain expert**"
   ]
  },
  {
   "cell_type": "code",
   "execution_count": null,
   "id": "60faaa81",
   "metadata": {},
   "outputs": [],
   "source": [
    "sns.heatmap(df.corr(), annot=True, cmap='Spectral', vmax=+1, vmin=-1)\n",
    "plt.show()"
   ]
  },
  {
   "cell_type": "markdown",
   "id": "e9201d2c",
   "metadata": {},
   "source": [
    "**From the heatmap we see that BMI, Glucose and Age are the likely risk factors of diabetes**"
   ]
  },
  {
   "cell_type": "markdown",
   "id": "f9946fee",
   "metadata": {},
   "source": [
    "**EDA Observations**\n",
    "1. Univariate Analysis--\n",
    "2. Bivariate analysis--\n",
    "3. Correlation Analysis--\n"
   ]
  },
  {
   "cell_type": "markdown",
   "id": "a73e2586",
   "metadata": {},
   "source": [
    "### Preprocess the Data for Modelling"
   ]
  },
  {
   "cell_type": "code",
   "execution_count": null,
   "id": "d4f7fecb",
   "metadata": {},
   "outputs": [],
   "source": [
    "# seperate the features and label\n",
    "X=df.drop('Outcome', axis=1)\n",
    "y=df.Outcome"
   ]
  },
  {
   "cell_type": "code",
   "execution_count": null,
   "id": "ccc4939f",
   "metadata": {},
   "outputs": [],
   "source": [
    "# solve for data imbalance \n",
    "sm=SMOTE()\n",
    "X, y=sm.fit_resample(X, y)"
   ]
  },
  {
   "cell_type": "code",
   "execution_count": null,
   "id": "edc6c0f8",
   "metadata": {},
   "outputs": [],
   "source": [
    "y.value_counts()"
   ]
  },
  {
   "cell_type": "code",
   "execution_count": null,
   "id": "721033a0",
   "metadata": {},
   "outputs": [],
   "source": [
    "# train test split\n",
    "x_train, x_test, y_train, y_test=train_test_split(X, y, test_size=0.2, \n",
    "                                random_state=101, stratify=y)"
   ]
  },
  {
   "cell_type": "code",
   "execution_count": null,
   "id": "39e71610",
   "metadata": {},
   "outputs": [],
   "source": [
    "print(x_train.shape)\n",
    "print(y_train.shape)"
   ]
  },
  {
   "cell_type": "markdown",
   "id": "ab9eb3b1",
   "metadata": {},
   "source": [
    "### Model Fitting and Evaluation"
   ]
  },
  {
   "cell_type": "code",
   "execution_count": null,
   "id": "84fc6e35",
   "metadata": {},
   "outputs": [],
   "source": [
    "def print_metrics(y_test, y_pred, model_name):\n",
    "    print(\"Metrics for model \", model_name)\n",
    "    print('')\n",
    "    print('Accuracy =', accuracy_score(y_test, y_pred))\n",
    "    print('')\n",
    "    print('Recall =', recall_score(y_test, y_pred))\n",
    "    print('')\n",
    "    print('Precision =', precision_score(y_test, y_pred))\n",
    "    print('')\n",
    "    print('ROC Score =', roc_auc_score(y_test, y_pred))\n",
    "    print('')\n",
    "    print('F1 Score =', f1_score(y_test, y_pred))\n",
    "    print('')\n",
    "    print(confusion_matrix(y_test, y_pred))\n",
    "    print('')\n",
    "    print(classification_report(y_test, y_pred))"
   ]
  },
  {
   "cell_type": "code",
   "execution_count": null,
   "id": "69fdd2d4",
   "metadata": {},
   "outputs": [],
   "source": [
    "# try out a knn model\n",
    "knn=KNeighborsClassifier()\n",
    "knn.fit(x_train, y_train)\n",
    "y_pred=knn.predict(x_test)\n",
    "print_metrics(y_test, y_pred, 'KNN')"
   ]
  },
  {
   "cell_type": "code",
   "execution_count": null,
   "id": "910cdcc2",
   "metadata": {},
   "outputs": [],
   "source": [
    "# fit all the models together\n",
    "clfs={\n",
    "    'Logreg':LogisticRegression(),\n",
    "    'Naive Bayes':GaussianNB(),\n",
    "    'Decision Tree':DecisionTreeClassifier(),\n",
    "    'RandomForest':RandomForestClassifier(),\n",
    "    'GradientBoost':GradientBoostingClassifier(),\n",
    "    'SVM':SVC(),\n",
    "    'Xgboost':XGBClassifier()\n",
    "}\n",
    "\n",
    "models_report=pd.DataFrame(columns=['model name','accuracy', 'recall', \n",
    "                                    'precision', 'f1', 'roc' ])\n",
    "for clf, clf_name in list(zip(clfs.values(), clfs.keys())):\n",
    "    clf.fit(x_train, y_train)\n",
    "    y_pred=clf.predict(x_test)\n",
    "    print('Fitting the model ...', clf_name)\n",
    "    t=pd.DataFrame({\n",
    "        'model name':clf_name,\n",
    "        'accuracy':accuracy_score(y_test, y_pred), \n",
    "        'recall':recall_score(y_test, y_pred), \n",
    "        'precision':precision_score(y_test, y_pred), \n",
    "        'f1':f1_score(y_test, y_pred), \n",
    "        'roc':roc_auc_score(y_test, y_pred)\n",
    "    },index=[0])\n",
    "    models_report=pd.concat([models_report,t], ignore_index=True)\n",
    "\n",
    "models_report=models_report.sort_values(by='f1', ascending=False)\n",
    "models_report"
   ]
  },
  {
   "cell_type": "markdown",
   "id": "c0e8a05f",
   "metadata": {},
   "source": [
    "**Random Forest has performed best on this data so we can optmize it**"
   ]
  },
  {
   "cell_type": "code",
   "execution_count": null,
   "id": "24a6093b",
   "metadata": {},
   "outputs": [],
   "source": [
    "rfc=RandomForestClassifier()\n",
    "rfc.fit(x_train, y_train)"
   ]
  },
  {
   "cell_type": "code",
   "execution_count": null,
   "id": "30495652",
   "metadata": {},
   "outputs": [],
   "source": [
    "param_dist={\n",
    "    'n_estimators':range(100, 1000, 100),\n",
    "    'max_depth':range(10, 100, 5),\n",
    "    'min_samples_leaf':range(1,10,1),\n",
    "    'min_samples_split':range(2, 20, 2),\n",
    "    'max_features':['log2', 'sqrt'],\n",
    "    'criterion':['entropy', 'gini'] }\n",
    "n_folds=10\n",
    "cv=RandomizedSearchCV(estimator=rfc,param_distributions=param_dist,\n",
    "                      n_jobs=-1,\n",
    "                      verbose=3, cv=n_folds, scoring='f1', \n",
    "                      return_train_score=True\n",
    "                      ,n_iter=10)\n",
    "cv.fit(x_train, y_train)"
   ]
  },
  {
   "cell_type": "code",
   "execution_count": null,
   "id": "60293c86",
   "metadata": {},
   "outputs": [],
   "source": [
    "cv.best_score_"
   ]
  },
  {
   "cell_type": "code",
   "execution_count": null,
   "id": "1d72ec45",
   "metadata": {},
   "outputs": [],
   "source": [
    "cv.best_estimator_"
   ]
  },
  {
   "cell_type": "code",
   "execution_count": null,
   "id": "ba9d42bb",
   "metadata": {},
   "outputs": [],
   "source": [
    "# interpret the model\n",
    "import shap \n",
    "best_rfc=cv.best_estimator_\n",
    "value=shap.TreeExplainer(best_rfc).shap_values(x_test)\n",
    "shap.summary_plot(value, x_train, plot_type='bar', feature_names=X.columns)"
   ]
  },
  {
   "cell_type": "markdown",
   "id": "0e8f74a9",
   "metadata": {},
   "source": [
    "The interpretation also shows that Glusoce, BMI and Age are strongest predictors of diabetes"
   ]
  },
  {
   "cell_type": "markdown",
   "id": "eec06c13",
   "metadata": {},
   "source": [
    "# Step 9 : Deploy the model in Streamlit"
   ]
  },
  {
   "cell_type": "code",
   "execution_count": null,
   "id": "6f946f6e",
   "metadata": {},
   "outputs": [],
   "source": [
    "#pickle the best model\n",
    "model=open('rfc.pickle','wb')\n",
    "pickle.dump(best_rfc,model)\n",
    "model.close()"
   ]
  },
  {
   "cell_type": "code",
   "execution_count": null,
   "id": "7a11e568",
   "metadata": {},
   "outputs": [],
   "source": [
    "#load the pickled model\n",
    "model=open('rfc.pickle','rb')\n",
    "clf=pickle.load(model)\n",
    "model.close()"
   ]
  },
  {
   "cell_type": "code",
   "execution_count": null,
   "id": "1a0d67cd",
   "metadata": {},
   "outputs": [],
   "source": [
    "data=[[3,100,80,23,1902,33,2.6,44]]\n",
    "clf.predict(data)[0]"
   ]
  },
  {
   "cell_type": "code",
   "execution_count": null,
   "id": "65264f50",
   "metadata": {},
   "outputs": [],
   "source": [
    "%%writefile app.py\n",
    "import streamlit as st\n",
    "import pandas as pd\n",
    "import matplotlib.pyplot as plt\n",
    "import numpy as np\n",
    "import pickle\n",
    "from sklearn.ensemble import RandomForestClassifier\n",
    "st.title(\"MEDICAL DIGNOSTIC WEB APP 🧑‍⚕\")\n",
    "st.subheader(\"Does The Patient Have Diabetics?\")\n",
    "df=pd.read_csv(\"diabetes.csv\")\n",
    "if st.sidebar.checkbox(\"view Data\",False):\n",
    "    st.Write(df)\n",
    "if st.sidebar.checkbox('view Distributions',False):\n",
    "    df.hist()\n",
    "    plt.tight_layout()\n",
    "    st.pyplot()\n",
    "    \n",
    "#step1: Load the pickeled model\n",
    "model.open('rfc.pickle','rb')\n",
    "clf=pickle.load(model)\n",
    "model.close()\n",
    "\n",
    "# step 2: get the front end user input\n",
    "pregs=st.number_input('Pregnancies',0,20,0)\n",
    "plas=st.slider('Glucose',40,200,40)\n",
    "pres=st.slider('BloodPressure',20,150,20)\n",
    "skin=st.slider('SkinThickness',7,99,7)\n",
    "insuline=st.slider('Insulin',14,850,14)\n",
    "bmi=st.slider('BMI',18,70,18)\n",
    "dpf=st.slider('DiabetesPedigreeFunction',0.05,2.50,0.05)\n",
    "age=st.slider('Age',21,90,21)"
   ]
  },
  {
   "cell_type": "code",
   "execution_count": null,
   "id": "ec1b19e0",
   "metadata": {},
   "outputs": [],
   "source": []
  },
  {
   "cell_type": "code",
   "execution_count": null,
   "id": "b1c75f59",
   "metadata": {},
   "outputs": [],
   "source": []
  },
  {
   "cell_type": "code",
   "execution_count": null,
   "id": "4339fcbc",
   "metadata": {},
   "outputs": [],
   "source": []
  },
  {
   "cell_type": "code",
   "execution_count": null,
   "id": "2996cf9c",
   "metadata": {},
   "outputs": [],
   "source": []
  },
  {
   "cell_type": "code",
   "execution_count": null,
   "id": "a9d38089",
   "metadata": {},
   "outputs": [],
   "source": []
  },
  {
   "cell_type": "code",
   "execution_count": null,
   "id": "7c8d4ded",
   "metadata": {},
   "outputs": [],
   "source": []
  },
  {
   "cell_type": "code",
   "execution_count": null,
   "id": "ad790b77",
   "metadata": {},
   "outputs": [],
   "source": []
  },
  {
   "cell_type": "code",
   "execution_count": null,
   "id": "68744032",
   "metadata": {},
   "outputs": [],
   "source": []
  },
  {
   "cell_type": "code",
   "execution_count": null,
   "id": "0040bce8",
   "metadata": {},
   "outputs": [],
   "source": []
  },
  {
   "cell_type": "code",
   "execution_count": null,
   "id": "c5f54888",
   "metadata": {},
   "outputs": [],
   "source": []
  },
  {
   "cell_type": "code",
   "execution_count": null,
   "id": "d7a44218",
   "metadata": {},
   "outputs": [],
   "source": []
  },
  {
   "cell_type": "code",
   "execution_count": null,
   "id": "ddf4768f",
   "metadata": {},
   "outputs": [],
   "source": []
  },
  {
   "cell_type": "code",
   "execution_count": null,
   "id": "cbde168a",
   "metadata": {},
   "outputs": [],
   "source": []
  }
 ],
 "metadata": {
  "kernelspec": {
   "display_name": "Python 3 (ipykernel)",
   "language": "python",
   "name": "python3"
  },
  "language_info": {
   "codemirror_mode": {
    "name": "ipython",
    "version": 3
   },
   "file_extension": ".py",
   "mimetype": "text/x-python",
   "name": "python",
   "nbconvert_exporter": "python",
   "pygments_lexer": "ipython3",
   "version": "3.10.9"
  }
 },
 "nbformat": 4,
 "nbformat_minor": 5
}
